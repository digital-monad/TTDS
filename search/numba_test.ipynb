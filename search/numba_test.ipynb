{
 "cells": [
  {
   "cell_type": "code",
   "execution_count": 2,
   "metadata": {},
   "outputs": [
    {
     "name": "stdout",
     "output_type": "stream",
     "text": [
      "<class 'dict'>\n"
     ]
    }
   ],
   "source": [
    "import pickle\n",
    "from numba import njit, typed, types, typeof\n",
    "\n",
    "\n",
    "def load_pickle(file_name):\n",
    "    with open(file_name + '.pickle', 'rb') as f:\n",
    "        return pickle.load(f)\n",
    "\n",
    "index = load_pickle(\"Test_Lyrics_Eminem_index\")\n",
    "\n",
    "print(type(index))\n",
    "\n",
    "def dict_to_nb(d):\n",
    "    line2pos = typed.Dict.empty(\n",
    "        key_type=types.int64, # line id\n",
    "        value_type=types.ListType(types.int64) # list of positions\n",
    "    )\n",
    "    song2pos = typed.Dict.empty(\n",
    "        key_type=types.int64, # song id\n",
    "        value_type=typeof(line2pos) # lines and positions dict\n",
    "    )\n",
    "    nb_index = typed.Dict.empty(\n",
    "        key_type=types.unicode_type, # term token\n",
    "        value_type=typeof(song2pos) # songs and lines dict\n",
    "    )\n",
    "    for term in d:\n",
    "        nb_index[term] = typed.Dict.empty(\n",
    "        key_type=types.int64, # song id\n",
    "        value_type=typeof(line2pos) # lines and positions dict\n",
    "    )\n",
    "        for song in d[term]:\n",
    "            nb_index[term][song] = typed.Dict.empty(\n",
    "                key_type=types.int64, # line id\n",
    "                value_type=types.ListType(types.int64) # list of positions\n",
    "            )\n",
    "            for line in d[term][song]:\n",
    "                nb_index[term][song][line] = typed.List(d[term][song][line])\n",
    "    return nb_index\n"
   ]
  },
  {
   "cell_type": "code",
   "execution_count": 3,
   "metadata": {},
   "outputs": [],
   "source": [
    "\n",
    "nb_index = dict_to_nb(index)"
   ]
  },
  {
   "cell_type": "code",
   "execution_count": 26,
   "metadata": {},
   "outputs": [],
   "source": [
    "\n",
    "import numpy as np\n",
    "@njit\n",
    "def phraseSearch(phrase, song):\n",
    "\n",
    "        \"\"\"Conduct n-term phrase search over index and return set of matching document ids\n",
    "\n",
    "        Args:\n",
    "            phrase (String): Free text search query\n",
    "            song (Bool): Whether or not to perform song search (rather than lyric search)\n",
    "\n",
    "        Returns:\n",
    "            Set[Int]: Document ids of all matching documents\n",
    "        \"\"\"\n",
    "\n",
    "\n",
    "        index = nb_index\n",
    "        matchingDocs = set() # Set of all doc ids matching the query\n",
    "        sequenceMap = {} # Dictionary mapping successive terms in the phrase to their view in the index\n",
    "\n",
    "        if song:\n",
    "            # Song level phrase search\n",
    "            for i in range(len(phrase)):\n",
    "                # TODO: Handle token not being in index\n",
    "                posting = {song_id : np.concatenate(typed.List(lines.values())) for song_id, lines in index[phrase[i]].items()}# Lines and positions where the term appears\n",
    "                if i == 0: # This is term 1\n",
    "                    sequenceMap[i] = posting\n",
    "                else:\n",
    "                    sequenceMap[i] = {song_id : listing for song_id, listing in posting.items() if song_id in sequenceMap[i-1]}\n",
    "            matrixCount = {}\n",
    "            for song_id in sequenceMap[len(phrase) - 1]:\n",
    "                matching = False\n",
    "                # For every common line, build the matrix of term occurences per line\n",
    "                for i in range(len(phrase)):\n",
    "                    # Get the line's posting list for that term\n",
    "                    for position in sequenceMap[i][song_id]:\n",
    "                        updatedValue = matrixCount.get(position - i, 0) + 1\n",
    "                        if updatedValue == len(phrase):\n",
    "                            matchingDocs.add(song_id)\n",
    "                            matching = True\n",
    "                            break\n",
    "                        matrixCount[position - i] = updatedValue\n",
    "                    if matching:\n",
    "                        break\n",
    "        else:\n",
    "            # Line level phrase search\n",
    "            for i in range(len(phrase)):\n",
    "                # TODO: Handle token not being in index\n",
    "                posting = {line_id : positions for song in index[phrase[i]].values() for line_id, positions in song.items()}# Lines and positions where the term appears\n",
    "                if i == 0: # This is term 1\n",
    "                    sequenceMap[i] = posting\n",
    "                else:\n",
    "                    sequenceMap[i] = {line_id : listing for line_id, listing in posting.items() if line_id in sequenceMap[i-1]}\n",
    "            matrixCount = {}\n",
    "            for line_id in sequenceMap[len(phrase) - 1]:\n",
    "                matching = False\n",
    "                # For every common line, build the matrix of term occurences per line\n",
    "                for i in range(len(phrase)):\n",
    "                    # Get the line's posting list for that term\n",
    "                    for position in sequenceMap[i][line_id]:\n",
    "                        updatedValue = matrixCount.get(position - i, 0) + 1\n",
    "                        if updatedValue == len(phrase):\n",
    "                            matchingDocs.add(line_id)\n",
    "                            matching = True\n",
    "                            break\n",
    "                        matrixCount[position - i] = updatedValue\n",
    "                    if matching:\n",
    "                        break\n",
    "        return matchingDocs"
   ]
  },
  {
   "cell_type": "code",
   "execution_count": 27,
   "metadata": {},
   "outputs": [
    {
     "ename": "TypingError",
     "evalue": "Failed in nopython mode pipeline (step: nopython frontend)\nNo implementation of function Function(<function concatenate at 0x7fb1aed6c5e0>) found for signature:\n \n >>> concatenate(ListType[ListType[int64]])\n \nThere are 4 candidate implementations:\n      - Of which 4 did not match due to:\n      Overload in function '_OverloadWrapper._build.<locals>.ol_generated': File: numba/core/overload_glue.py: Line 131.\n        With argument(s): '(ListType[ListType[int64]])':\n       Rejected as the implementation raised a specific error:\n         TypingError: Failed in nopython mode pipeline (step: nopython frontend)\n       No implementation of function Function(<intrinsic stub>) found for signature:\n        \n        >>> stub(ListType[ListType[int64]])\n        \n       There are 2 candidate implementations:\n         - Of which 2 did not match due to:\n         Intrinsic in function 'stub': File: numba/core/overload_glue.py: Line 35.\n           With argument(s): '(ListType[ListType[int64]])':\n          Rejected as the implementation raised a specific error:\n            TypeError: np.concatenate(): expecting a non-empty tuple of arrays, got ListType[ListType[int64]]\n         raised from /Users/rohan/miniconda3/envs/ttds/lib/python3.9/site-packages/numba/core/typing/npydecl.py:800\n       \n       During: resolving callee type: Function(<intrinsic stub>)\n       During: typing of call at <string> (3)\n       \n       \n       File \"<string>\", line 3:\n       <source missing, REPL/exec in use?>\n\n  raised from /Users/rohan/miniconda3/envs/ttds/lib/python3.9/site-packages/numba/core/typeinfer.py:1074\n\nDuring: resolving callee type: Function(<function concatenate at 0x7fb1aed6c5e0>)\nDuring: typing of call at /var/folders/g7/4sp666m570d57bykp31ylyn00000gn/T/ipykernel_62201/3248995892.py (24)\n\n\nFile \"../../../../../../../var/folders/g7/4sp666m570d57bykp31ylyn00000gn/T/ipykernel_62201/3248995892.py\", line 24:\n<source missing, REPL/exec in use?>\n",
     "output_type": "error",
     "traceback": [
      "\u001b[0;31m---------------------------------------------------------------------------\u001b[0m",
      "\u001b[0;31mTypingError\u001b[0m                               Traceback (most recent call last)",
      "\u001b[1;32m/Users/rohan/YR4/TTDS/CW3/TTDS/search/numba_test.ipynb Cell 4'\u001b[0m in \u001b[0;36m<cell line: 4>\u001b[0;34m()\u001b[0m\n\u001b[1;32m      <a href='vscode-notebook-cell:/Users/rohan/YR4/TTDS/CW3/TTDS/search/numba_test.ipynb#ch0000003?line=1'>2</a>\u001b[0m query \u001b[39m=\u001b[39m \u001b[39m\"\u001b[39m\u001b[39moffice with monica\u001b[39m\u001b[39m\"\u001b[39m\n\u001b[1;32m      <a href='vscode-notebook-cell:/Users/rohan/YR4/TTDS/CW3/TTDS/search/numba_test.ipynb#ch0000003?line=2'>3</a>\u001b[0m phrase \u001b[39m=\u001b[39m [token \u001b[39mfor\u001b[39;00m token, pos \u001b[39min\u001b[39;00m preprocess(query)[\u001b[39m0\u001b[39m]]\n\u001b[0;32m----> <a href='vscode-notebook-cell:/Users/rohan/YR4/TTDS/CW3/TTDS/search/numba_test.ipynb#ch0000003?line=3'>4</a>\u001b[0m phraseSearch(phrase, \u001b[39mFalse\u001b[39;49;00m)\n",
      "File \u001b[0;32m~/miniconda3/envs/ttds/lib/python3.9/site-packages/numba/core/dispatcher.py:482\u001b[0m, in \u001b[0;36m_DispatcherBase._compile_for_args\u001b[0;34m(self, *args, **kws)\u001b[0m\n\u001b[1;32m    <a href='file:///~/miniconda3/envs/ttds/lib/python3.9/site-packages/numba/core/dispatcher.py?line=477'>478</a>\u001b[0m         msg \u001b[39m=\u001b[39m (\u001b[39mf\u001b[39m\u001b[39m\"\u001b[39m\u001b[39m{\u001b[39;00m\u001b[39mstr\u001b[39m(e)\u001b[39m.\u001b[39mrstrip()\u001b[39m}\u001b[39;00m\u001b[39m \u001b[39m\u001b[39m\\n\u001b[39;00m\u001b[39m\\n\u001b[39;00m\u001b[39mThis error may have been caused \u001b[39m\u001b[39m\"\u001b[39m\n\u001b[1;32m    <a href='file:///~/miniconda3/envs/ttds/lib/python3.9/site-packages/numba/core/dispatcher.py?line=478'>479</a>\u001b[0m                \u001b[39mf\u001b[39m\u001b[39m\"\u001b[39m\u001b[39mby the following argument(s):\u001b[39m\u001b[39m\\n\u001b[39;00m\u001b[39m{\u001b[39;00margs_str\u001b[39m}\u001b[39;00m\u001b[39m\\n\u001b[39;00m\u001b[39m\"\u001b[39m)\n\u001b[1;32m    <a href='file:///~/miniconda3/envs/ttds/lib/python3.9/site-packages/numba/core/dispatcher.py?line=479'>480</a>\u001b[0m         e\u001b[39m.\u001b[39mpatch_message(msg)\n\u001b[0;32m--> <a href='file:///~/miniconda3/envs/ttds/lib/python3.9/site-packages/numba/core/dispatcher.py?line=481'>482</a>\u001b[0m     error_rewrite(e, \u001b[39m'\u001b[39;49m\u001b[39mtyping\u001b[39;49m\u001b[39m'\u001b[39;49m)\n\u001b[1;32m    <a href='file:///~/miniconda3/envs/ttds/lib/python3.9/site-packages/numba/core/dispatcher.py?line=482'>483</a>\u001b[0m \u001b[39mexcept\u001b[39;00m errors\u001b[39m.\u001b[39mUnsupportedError \u001b[39mas\u001b[39;00m e:\n\u001b[1;32m    <a href='file:///~/miniconda3/envs/ttds/lib/python3.9/site-packages/numba/core/dispatcher.py?line=483'>484</a>\u001b[0m     \u001b[39m# Something unsupported is present in the user code, add help info\u001b[39;00m\n\u001b[1;32m    <a href='file:///~/miniconda3/envs/ttds/lib/python3.9/site-packages/numba/core/dispatcher.py?line=484'>485</a>\u001b[0m     error_rewrite(e, \u001b[39m'\u001b[39m\u001b[39munsupported_error\u001b[39m\u001b[39m'\u001b[39m)\n",
      "File \u001b[0;32m~/miniconda3/envs/ttds/lib/python3.9/site-packages/numba/core/dispatcher.py:423\u001b[0m, in \u001b[0;36m_DispatcherBase._compile_for_args.<locals>.error_rewrite\u001b[0;34m(e, issue_type)\u001b[0m\n\u001b[1;32m    <a href='file:///~/miniconda3/envs/ttds/lib/python3.9/site-packages/numba/core/dispatcher.py?line=420'>421</a>\u001b[0m     \u001b[39mraise\u001b[39;00m e\n\u001b[1;32m    <a href='file:///~/miniconda3/envs/ttds/lib/python3.9/site-packages/numba/core/dispatcher.py?line=421'>422</a>\u001b[0m \u001b[39melse\u001b[39;00m:\n\u001b[0;32m--> <a href='file:///~/miniconda3/envs/ttds/lib/python3.9/site-packages/numba/core/dispatcher.py?line=422'>423</a>\u001b[0m     \u001b[39mraise\u001b[39;00m e\u001b[39m.\u001b[39mwith_traceback(\u001b[39mNone\u001b[39;00m)\n",
      "\u001b[0;31mTypingError\u001b[0m: Failed in nopython mode pipeline (step: nopython frontend)\nNo implementation of function Function(<function concatenate at 0x7fb1aed6c5e0>) found for signature:\n \n >>> concatenate(ListType[ListType[int64]])\n \nThere are 4 candidate implementations:\n      - Of which 4 did not match due to:\n      Overload in function '_OverloadWrapper._build.<locals>.ol_generated': File: numba/core/overload_glue.py: Line 131.\n        With argument(s): '(ListType[ListType[int64]])':\n       Rejected as the implementation raised a specific error:\n         TypingError: Failed in nopython mode pipeline (step: nopython frontend)\n       No implementation of function Function(<intrinsic stub>) found for signature:\n        \n        >>> stub(ListType[ListType[int64]])\n        \n       There are 2 candidate implementations:\n         - Of which 2 did not match due to:\n         Intrinsic in function 'stub': File: numba/core/overload_glue.py: Line 35.\n           With argument(s): '(ListType[ListType[int64]])':\n          Rejected as the implementation raised a specific error:\n            TypeError: np.concatenate(): expecting a non-empty tuple of arrays, got ListType[ListType[int64]]\n         raised from /Users/rohan/miniconda3/envs/ttds/lib/python3.9/site-packages/numba/core/typing/npydecl.py:800\n       \n       During: resolving callee type: Function(<intrinsic stub>)\n       During: typing of call at <string> (3)\n       \n       \n       File \"<string>\", line 3:\n       <source missing, REPL/exec in use?>\n\n  raised from /Users/rohan/miniconda3/envs/ttds/lib/python3.9/site-packages/numba/core/typeinfer.py:1074\n\nDuring: resolving callee type: Function(<function concatenate at 0x7fb1aed6c5e0>)\nDuring: typing of call at /var/folders/g7/4sp666m570d57bykp31ylyn00000gn/T/ipykernel_62201/3248995892.py (24)\n\n\nFile \"../../../../../../../var/folders/g7/4sp666m570d57bykp31ylyn00000gn/T/ipykernel_62201/3248995892.py\", line 24:\n<source missing, REPL/exec in use?>\n"
     ]
    }
   ],
   "source": [
    "from preprocess import preprocess\n",
    "query = \"office with monica\"\n",
    "phrase = [token for token, pos in preprocess(query)[0]]\n",
    "phraseSearch(phrase, False)"
   ]
  },
  {
   "cell_type": "code",
   "execution_count": null,
   "metadata": {},
   "outputs": [],
   "source": []
  }
 ],
 "metadata": {
  "interpreter": {
   "hash": "fabf4ec97088c10be9985a3e735cd6482012b372bf086722c1bbeeefe0e40fc5"
  },
  "kernelspec": {
   "display_name": "Python 3.9.5 ('ttds')",
   "language": "python",
   "name": "python3"
  },
  "language_info": {
   "codemirror_mode": {
    "name": "ipython",
    "version": 3
   },
   "file_extension": ".py",
   "mimetype": "text/x-python",
   "name": "python",
   "nbconvert_exporter": "python",
   "pygments_lexer": "ipython3",
   "version": "3.9.5"
  },
  "orig_nbformat": 4
 },
 "nbformat": 4,
 "nbformat_minor": 2
}
